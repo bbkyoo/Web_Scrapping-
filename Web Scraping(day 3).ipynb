{
 "cells": [
  {
   "cell_type": "markdown",
   "id": "16e619f5",
   "metadata": {},
   "source": [
    "* Selenium 설치"
   ]
  },
  {
   "cell_type": "markdown",
   "id": "dacde001",
   "metadata": {},
   "source": [
    "!conda install selenium"
   ]
  },
  {
   "cell_type": "markdown",
   "id": "f7788951",
   "metadata": {},
   "source": [
    "!pip install selenium"
   ]
  },
  {
   "cell_type": "code",
   "execution_count": null,
   "id": "176c6474",
   "metadata": {},
   "outputs": [],
   "source": [
    "import selenium"
   ]
  },
  {
   "cell_type": "code",
   "execution_count": null,
   "id": "778fd286",
   "metadata": {},
   "outputs": [],
   "source": [
    "from selenium import webdriver"
   ]
  },
  {
   "cell_type": "markdown",
   "id": "e9e62a11",
   "metadata": {},
   "source": [
    "* Selenium 기본 동작"
   ]
  },
  {
   "cell_type": "code",
   "execution_count": null,
   "id": "675d1cc1",
   "metadata": {},
   "outputs": [],
   "source": [
    "#browser = webdriver.Chrome(\"./chromedriver.exe\")\n",
    "browser = webdriver.Chrome()"
   ]
  },
  {
   "cell_type": "code",
   "execution_count": null,
   "id": "4f49847f",
   "metadata": {},
   "outputs": [],
   "source": [
    "browser.get(\"http://naver.com\")"
   ]
  },
  {
   "cell_type": "code",
   "execution_count": null,
   "id": "3586b587",
   "metadata": {},
   "outputs": [],
   "source": [
    "browser.back()"
   ]
  },
  {
   "cell_type": "code",
   "execution_count": null,
   "id": "9116bf9e",
   "metadata": {},
   "outputs": [],
   "source": [
    "browser.forward()"
   ]
  },
  {
   "cell_type": "code",
   "execution_count": null,
   "id": "e5251b26",
   "metadata": {},
   "outputs": [],
   "source": [
    "browser.refresh()"
   ]
  },
  {
   "cell_type": "code",
   "execution_count": null,
   "id": "58e04e6c",
   "metadata": {},
   "outputs": [],
   "source": [
    "elem = browser.find_element_by_id(\"query\")\n",
    "#elem = browser.find_element_by_name(\"query\")"
   ]
  },
  {
   "cell_type": "code",
   "execution_count": null,
   "id": "9e60d0c2",
   "metadata": {},
   "outputs": [],
   "source": [
    "elem.send_keys(\"파이썬\")"
   ]
  },
  {
   "cell_type": "code",
   "execution_count": null,
   "id": "3335d88c",
   "metadata": {},
   "outputs": [],
   "source": [
    "from selenium.webdriver.common.keys import Keys"
   ]
  },
  {
   "cell_type": "code",
   "execution_count": null,
   "id": "c6731e11",
   "metadata": {},
   "outputs": [],
   "source": [
    "elem.send_keys(Keys.ENTER)"
   ]
  },
  {
   "cell_type": "code",
   "execution_count": null,
   "id": "2a9f7c67",
   "metadata": {},
   "outputs": [],
   "source": [
    "elem = browser.find_element_by_tag_name(\"a\")"
   ]
  },
  {
   "cell_type": "code",
   "execution_count": null,
   "id": "5495bffb",
   "metadata": {},
   "outputs": [],
   "source": [
    "elem.get_attribute(\"href\")"
   ]
  },
  {
   "cell_type": "code",
   "execution_count": null,
   "id": "4e9c5395",
   "metadata": {},
   "outputs": [],
   "source": [
    "elem = browser.find_elements_by_tag_name(\"a\")\n",
    "elem"
   ]
  },
  {
   "cell_type": "code",
   "execution_count": null,
   "id": "a909fbb6",
   "metadata": {},
   "outputs": [],
   "source": [
    "for e in elem:\n",
    "    print(e.get_attribute(\"href\"))"
   ]
  },
  {
   "cell_type": "code",
   "execution_count": null,
   "id": "fe638c98",
   "metadata": {},
   "outputs": [],
   "source": [
    "browser.get(\"http://daum.net\")"
   ]
  },
  {
   "cell_type": "code",
   "execution_count": null,
   "id": "261ca889",
   "metadata": {},
   "outputs": [],
   "source": [
    "elem = browser.find_element_by_id(\"q\")\n",
    "#elem = browser.find_element_by_name(\"q\")"
   ]
  },
  {
   "cell_type": "code",
   "execution_count": null,
   "id": "58494797",
   "metadata": {},
   "outputs": [],
   "source": [
    "elem.send_keys(\"파이썬\")"
   ]
  },
  {
   "cell_type": "code",
   "execution_count": null,
   "id": "90421254",
   "metadata": {},
   "outputs": [],
   "source": [
    "elem = browser.find_element_by_xpath(\"//*[@id='daumSearch']/fieldset/div/div/button[2]\")"
   ]
  },
  {
   "cell_type": "code",
   "execution_count": null,
   "id": "ebe9eabd",
   "metadata": {},
   "outputs": [],
   "source": [
    "elem.click()"
   ]
  },
  {
   "cell_type": "code",
   "execution_count": null,
   "id": "db9d8ec9",
   "metadata": {},
   "outputs": [],
   "source": [
    "browser.close()"
   ]
  },
  {
   "cell_type": "code",
   "execution_count": null,
   "id": "8cacfbf5",
   "metadata": {},
   "outputs": [],
   "source": [
    "browser.quit()"
   ]
  },
  {
   "cell_type": "markdown",
   "id": "fa27764e",
   "metadata": {},
   "source": [
    "* 네이버 로그인"
   ]
  },
  {
   "cell_type": "code",
   "execution_count": null,
   "id": "23f43511",
   "metadata": {},
   "outputs": [],
   "source": [
    "import time\n",
    "from selenium import webdriver\n",
    "\n",
    "browser = webdriver.Chrome()\n",
    "\n",
    "# 1. 네이버 이동\n",
    "browser.get(\"http://naver.com\")\n",
    "\n",
    "# 2. 로그인 버튼\n",
    "elem = browser.find_element_by_class_name(\"link_login\")\n",
    "elem.click()\n",
    "\n",
    "# 3. id, pw 입력\n",
    "elem = browser.find_element_by_id(\"id\")\n",
    "elem.send_keys(\"my_id\")\n",
    "time.sleep(3)\n",
    "\n",
    "elem = browser.find_element_by_id(\"pw\")\n",
    "elem.send_keys(\"my_pw\")\n",
    "#browser.find_element_by_id(\"pw\").send_keys(\"my_pw\")\n",
    "time.sleep(3)\n",
    "\n",
    "# 4. 로그인 버튼 클릭\n",
    "elem = browser.find_element_by_id(\"log.login\")\n",
    "elem.click()\n",
    "# browser.find_element_by_id(\"log.login\").click()\n",
    "\n",
    "# 5. 페이지 소스 보기\n",
    "print(browser.page_source)\n",
    "time.sleep(3)\n",
    "\n",
    "# 6. 브라우저 종료\n",
    "browser.quit()"
   ]
  },
  {
   "cell_type": "markdown",
   "id": "e025bbbe",
   "metadata": {},
   "source": [
    "* 다음 로그인"
   ]
  },
  {
   "cell_type": "code",
   "execution_count": null,
   "id": "23a3b643",
   "metadata": {},
   "outputs": [],
   "source": [
    "import time\n",
    "from selenium import webdriver\n",
    "\n",
    "browser = webdriver.Chrome()\n",
    "\n",
    "# 1. 다음 이동\n",
    "browser.get(\"http://daum.net\")\n",
    "\n",
    "# 2. 로그인 버튼 클릭\n",
    "elem = browser.find_element_by_class_name(\"link_login\")\n",
    "elem.click()\n",
    "\n",
    "# 3. id 입력\n",
    "browser.find_element_by_name(\"id\").clear()\n",
    "browser.find_element_by_name(\"id\").send_keys(\"my_id\")\n",
    "time.sleep(3)\n",
    "\n",
    "# 4. pw 입력\n",
    "browser.find_element_by_name(\"pw\").clear()\n",
    "browser.find_element_by_name(\"pw\").send_keys(\"my_pw\")\n",
    "time.sleep(3)\n",
    "\n",
    "# 5. 로그인 버튼 클릭\n",
    "#browser.find_element_by_id(\"loginBtn\").click()\n",
    "browser.find_element_by_xpath(\"//*[@id='loginBtn']\").click()\n",
    "time.sleep(3)\n",
    "\n",
    "# 6. 브라우저 종료\n",
    "browser.close()"
   ]
  },
  {
   "cell_type": "markdown",
   "id": "920fd6da",
   "metadata": {},
   "source": [
    "* 네이버 항공권 검색"
   ]
  },
  {
   "cell_type": "code",
   "execution_count": null,
   "id": "6652ac69",
   "metadata": {},
   "outputs": [],
   "source": [
    "from selenium.webdriver.common.by import By\n",
    "from selenium.webdriver.support.ui import WebDriverWait\n",
    "from selenium.webdriver.support import expected_conditions as EC"
   ]
  },
  {
   "cell_type": "code",
   "execution_count": null,
   "id": "341ca39d",
   "metadata": {},
   "outputs": [],
   "source": [
    "from selenium import webdriver\n",
    "\n",
    "browser = webdriver.Chrome()\n",
    "#browser.maximize_window()\n",
    "\n",
    "# 1. 네이버 항공권 예매 사이트\n",
    "url = \"https://flight.naver.com/flights/\"\n",
    "browser.get(url)\n",
    "\n",
    "# 2. 가는날/오는날 선택\n",
    "browser.find_element_by_link_text(\"가는날 선택\").click()\n",
    "\n",
    "# 가는날/오는날 선택 (이번달 27, 28)\n",
    "browser.find_elements_by_link_text(\"27\")[0].click()\n",
    "browser.find_elements_by_link_text(\"28\")[0].click()\n",
    "\n",
    "# # 가는날/오는날 선택 (다음달 27, 28)\n",
    "# browser.find_elements_by_link_text(\"27\")[1].click()\n",
    "# browser.find_elements_by_link_text(\"28\")[1].click()\n",
    "\n",
    "# # 가는날/오는날 선택 (이번달 27, 다음달 28)\n",
    "# browser.find_elements_by_link_text(\"27\")[0].click()\n",
    "# browser.find_elements_by_link_text(\"28\")[1].click()\n",
    "\n",
    "# 3. 제주도 선택\n",
    "browser.find_element_by_xpath(\"//*[@id='recommendationList']/ul/li[1]/div/span\").click()\n",
    "\n",
    "# 4. 항공권 검색\n",
    "browser.find_element_by_link_text(\"항공권 검색\").click()\n",
    "\n",
    "# 5. 검색 기다리기\n",
    "elem = WebDriverWait(browser, 10).until(EC.presence_of_element_located((By.XPATH, \"//*[@id='content']/div[2]/div/div[4]/ul/li[1]\")))\n",
    "\n",
    "# 6. 결과 출력하기\n",
    "print(elem.text)\n",
    "\n",
    "# 7. Browser 종료\n",
    "browser.close()"
   ]
  },
  {
   "cell_type": "markdown",
   "id": "94b2e88b",
   "metadata": {},
   "source": [
    "* 구글 무비"
   ]
  },
  {
   "cell_type": "code",
   "execution_count": null,
   "id": "c542f39d",
   "metadata": {},
   "outputs": [],
   "source": [
    "# 구글 무비 사이트/인기챠트 데이터 확인\n",
    "import requests\n",
    "from bs4 import BeautifulSoup\n",
    "\n",
    "url = \"https://play.google.com/store/movies/top\"\n",
    "\n",
    "headers = {\"User-Agent\" : \"Mozilla/5.0 (Windows NT 10.0; Win64; x64) AppleWebKit/537.36 (KHTML, like Gecko) Chrome/91.0.4472.124 Safari/537.36 Edg/91.0.864.67\"}\n",
    "res = requests.get(url, headers = headers)\n",
    "res.raise_for_status()\n",
    "\n",
    "soup = BeautifulSoup(res.text, \"lxml\")\n",
    "\n",
    "movies = soup.find_all(\"div\", {\"class\" : \"Vpfmgd\"})\n",
    "print(len(movies))\n",
    "\n",
    "for movie in movies:\n",
    "    print(movie.find(\"div\", {\"class\" : \"WsMG1c nnK0zc\"}).get_text())"
   ]
  },
  {
   "cell_type": "markdown",
   "id": "d41596f9",
   "metadata": {},
   "source": [
    "실습 : 구글 무비 사이트\n",
    "- 스크롤된 모든 데이터에 대해\n",
    "- 가격 할인된 영화만 출력하기\n",
    "- 출력 양식 : 영화 제목, 할인 전 가격, 할인 후 가격, 링크"
   ]
  },
  {
   "cell_type": "code",
   "execution_count": null,
   "id": "b9507c62",
   "metadata": {},
   "outputs": [],
   "source": [
    "# 스크롤 통해 전체 데이터 가져오기\n",
    "from selenium import webdriver\n",
    "import re\n",
    "\n",
    "browser = webdriver.Chrome()\n",
    "browser.maximize_window()\n",
    "\n",
    "url = \"https://play.google.com/store/movies/top\"\n",
    "browser.get(url)\n",
    "\n",
    "#browser.execute_script(\"window.scrollTo(0, 1080)\")\n",
    "\n",
    "# # height를 알아오는 java script 실행\n",
    "# height = browser.execute_script(\"return document.body.scrollHeight\")\n",
    "\n",
    "# # 실제 scroll 하는 java script 실행\n",
    "# browser.execute_script(\"window.scrollTo(0, document.body.scrollHeight)\")\n",
    "\n",
    "prev_height = browser.execute_script(\"return document.body.scrollHeight\")\n",
    "while True:\n",
    "    browser.execute_script(\"window.scrollTo(0, document.body.scrollHeight)\")\n",
    "    time.sleep(2)\n",
    "    curr_height = browser.execute_script(\"return document.body.scrollHeight\")    \n",
    "    if curr_height == prev_height:    \n",
    "        break    \n",
    "    prev_height = curr_height\n",
    "    \n",
    "print(\"스크롤 완료\")\n",
    "\n",
    "soup = BeautifulSoup(browser.page_source, \"lxml\")\n",
    "#print(soup.prettify())\n",
    "\n",
    "movies = soup.find_all(\"div\", {\"class\" : \"Vpfmgd\"})\n",
    "print(len(movies))\n",
    "\n",
    "\n",
    "for movie in movies:\n",
    "    # 영화 이름\n",
    "    title = movie.find(\"div\", {\"class\" : \"WsMG1c nnK0zc\"}).get_text()\n",
    "    \n",
    "    # 할인 전 가격\n",
    "    original_price = movie.find(\"span\", {\"class\" : \"SUZt4c djCuy\"})\n",
    "    if original_price:\n",
    "        original_price = original_price.get_text()\n",
    "    else:\n",
    "        continue\n",
    "        \n",
    "    # 할인 후 가격\n",
    "    price = movie.find(\"span\", {\"class\" : \"VfPpfd ZdBevf i5DZme\"}).get_text()\n",
    "    \n",
    "    # 링크\n",
    "    link = movie.find(\"a\", {\"class\" : \"JC71ub\"})[\"href\"]\n",
    "    \n",
    "    p=re.compile('(http|www)')\n",
    "    if p.match(link):\n",
    "        pass\n",
    "    else:\n",
    "        link = \"https://play.google.com\" + link\n",
    "        \n",
    "    print(f\"제목 : {title}\")\n",
    "    print(f\"할인 전 가격 : {original_price}\")\n",
    "    print(f\"할인 후 가격 : {price}\")\n",
    "    print(f\"링크 : \", link)\n",
    "    print(\"-\" * 100)\n",
    "    \n",
    "browser.quit()        "
   ]
  },
  {
   "cell_type": "markdown",
   "id": "f1b240c1",
   "metadata": {},
   "source": [
    "* headless chrome"
   ]
  },
  {
   "cell_type": "code",
   "execution_count": null,
   "id": "e851fab3",
   "metadata": {},
   "outputs": [],
   "source": [
    "# 스크롤 통해 전체 데이터 가져오기\n",
    "from selenium import webdriver\n",
    "import re\n",
    "\n",
    "# browser 실행하지 않는 옵션\n",
    "options = webdriver.ChromeOptions()\n",
    "options.headless = True\n",
    "options.add_argument(\"window-size=1920x1080\")\n",
    "\n",
    "browser = webdriver.Chrome(options=options)\n",
    "browser.maximize_window()\n",
    "\n",
    "url = \"https://play.google.com/store/movies/top\"\n",
    "browser.get(url)\n",
    "\n",
    "#browser.execute_script(\"window.scrollTo(0, 1080)\")\n",
    "\n",
    "# # height를 알아오는 java script 실행\n",
    "# height = browser.execute_script(\"return document.body.scrollHeight\")\n",
    "\n",
    "# # 실제 scroll 하는 java script 실행\n",
    "# browser.execute_script(\"window.scrollTo(0, document.body.scrollHeight)\")\n",
    "\n",
    "prev_height = browser.execute_script(\"return document.body.scrollHeight\")\n",
    "while True:\n",
    "    browser.execute_script(\"window.scrollTo(0, document.body.scrollHeight)\")\n",
    "    time.sleep(2)\n",
    "    curr_height = browser.execute_script(\"return document.body.scrollHeight\")    \n",
    "    if curr_height == prev_height:    \n",
    "        break    \n",
    "    prev_height = curr_height\n",
    "    \n",
    "print(\"스크롤 완료\")\n",
    "\n",
    "soup = BeautifulSoup(browser.page_source, \"lxml\")\n",
    "#print(soup.prettify())\n",
    "\n",
    "movies = soup.find_all(\"div\", {\"class\" : \"Vpfmgd\"})\n",
    "print(len(movies))\n",
    "\n",
    "\n",
    "for movie in movies:\n",
    "    # 영화 이름\n",
    "    title = movie.find(\"div\", {\"class\" : \"WsMG1c nnK0zc\"}).get_text()\n",
    "    \n",
    "    # 할인 전 가격\n",
    "    original_price = movie.find(\"span\", {\"class\" : \"SUZt4c djCuy\"})\n",
    "    if original_price:\n",
    "        original_price = original_price.get_text()\n",
    "    else:\n",
    "        continue\n",
    "        \n",
    "    # 할인 후 가격\n",
    "    price = movie.find(\"span\", {\"class\" : \"VfPpfd ZdBevf i5DZme\"}).get_text()\n",
    "    \n",
    "    # 링크\n",
    "    link = movie.find(\"a\", {\"class\" : \"JC71ub\"})[\"href\"]\n",
    "    \n",
    "    p=re.compile('(http|www)')\n",
    "    if p.match(link):\n",
    "        pass\n",
    "    else:\n",
    "        link = \"https://play.google.com\" + link\n",
    "        \n",
    "    print(f\"제목 : {title}\")\n",
    "    print(f\"할인 전 가격 : {original_price}\")\n",
    "    print(f\"할인 후 가격 : {price}\")\n",
    "    print(f\"링크 : \", link)\n",
    "    print(\"-\" * 100)\n",
    "    \n",
    "browser.quit()        "
   ]
  },
  {
   "cell_type": "markdown",
   "id": "0e953d02",
   "metadata": {},
   "source": [
    "* 구글 이미지 검색"
   ]
  },
  {
   "cell_type": "code",
   "execution_count": null,
   "id": "4648b692",
   "metadata": {},
   "outputs": [],
   "source": [
    "실습 :\n",
    "각 이미지를 클릭했을 때 보이는 원본 이미지를 다운 받기"
   ]
  },
  {
   "cell_type": "code",
   "execution_count": 35,
   "id": "d335b84b",
   "metadata": {},
   "outputs": [
    {
     "name": "stdout",
     "output_type": "stream",
     "text": [
      "스크롤 완료\n"
     ]
    }
   ],
   "source": [
    "from selenium import webdriver\n",
    "import time\n",
    "import urllib.request\n",
    "\n",
    "browser = webdriver.Chrome()\n",
    "browser.maximize_window()\n",
    "\n",
    "url = \"https://www.google.co.kr/imghp?hl=ko\"\n",
    "browser.get(url)\n",
    "\n",
    "elem = browser.find_element_by_name(\"q\")\n",
    "elem.send_keys(\"딸기\")\n",
    "elem.submit()\n",
    "\n",
    "prev_height = browser.execute_script(\"return document.body.scrollHeight\")\n",
    "while True:\n",
    "    browser.execute_script(\"window.scrollTo(0, document.body.scrollHeight)\")\n",
    "    time.sleep(2)\n",
    "    curr_height = browser.execute_script(\"return document.body.scrollHeight\")    \n",
    "    if curr_height == prev_height:    \n",
    "        break    \n",
    "    prev_height = curr_height\n",
    "    \n",
    "print(\"스크롤 완료\")"
   ]
  },
  {
   "cell_type": "code",
   "execution_count": 36,
   "id": "8cda8f20",
   "metadata": {},
   "outputs": [],
   "source": [
    "images = browser.find_elements_by_css_selector(\".rg_i.Q4LuWd\")\n",
    "count = 1\n",
    "\n",
    "for image in images:\n",
    "    image.click()\n",
    "    time.sleep(2)\n",
    "    imgUrl = browser.find_element_by_css_selector(\".n3VNCb\").get_attribute(\"src\")\n",
    "    #imgUrl = browser.find_element_by_xpath(\"//*[@id='Sva75c']/div/div/div[3]/div[2]/c-wiz/div/div[1]/div[1]/div[2]/div[1]/a/img\").get_attribute(\"src\")\n",
    "    urllib.request.urlretrieve(imgUrl, str(count) + \".jpg\")\n",
    "    count = count + 1\n",
    "    if count > 10:\n",
    "        break;\n",
    "time.sleep(2)\n",
    "browser.close()"
   ]
  },
  {
   "cell_type": "code",
   "execution_count": null,
   "id": "23eef2f3",
   "metadata": {},
   "outputs": [],
   "source": [
    "* 스크롤 없이 원본 저장"
   ]
  },
  {
   "cell_type": "code",
   "execution_count": 33,
   "id": "532cbfde",
   "metadata": {},
   "outputs": [],
   "source": [
    "from selenium import webdriver\n",
    "from selenium.webdriver.common.keys import Keys\n",
    "import time\n",
    "import urllib.request\n",
    "\n",
    "browser = webdriver.Chrome(\"./chromedriver\")\n",
    "browser.maximize_window()\n",
    "\n",
    "browser.get(\"https://www.google.co.kr/imghp?hl=ko&ogbl\")\n",
    "\n",
    "elem = browser.find_element_by_name(\"q\")\n",
    "elem.send_keys(\"딸기\")\n",
    "elem.submit()\n",
    "\n",
    "count = 1\n",
    "images = browser.find_elements_by_css_selector(\".rg_i.Q4LuWd\")\n",
    "for image in images:\n",
    "    image.click()\n",
    "    time.sleep(2)\n",
    "    imgUrl = browser.find_element_by_xpath(\"//*[@id='Sva75c']/div/div/div[3]/div[2]/c-wiz/div/div[1]/div[1]/div[2]/div[1]/a/img\").get_attribute(\"src\")\n",
    "    \n",
    "    \n",
    "    urllib.request.urlretrieve(imgUrl, str(count) + \".jpg\")\n",
    "    count = count + 1\n",
    "    if count > 10:\n",
    "        break;\n",
    "browser.close()"
   ]
  },
  {
   "cell_type": "code",
   "execution_count": null,
   "id": "a44b9331",
   "metadata": {},
   "outputs": [],
   "source": []
  },
  {
   "cell_type": "code",
   "execution_count": null,
   "id": "3ab981ba",
   "metadata": {},
   "outputs": [],
   "source": []
  },
  {
   "cell_type": "code",
   "execution_count": null,
   "id": "fab885e0",
   "metadata": {},
   "outputs": [],
   "source": []
  },
  {
   "cell_type": "code",
   "execution_count": null,
   "id": "29a5d40e",
   "metadata": {},
   "outputs": [],
   "source": []
  },
  {
   "cell_type": "code",
   "execution_count": null,
   "id": "4753eaf5",
   "metadata": {},
   "outputs": [],
   "source": []
  },
  {
   "cell_type": "code",
   "execution_count": null,
   "id": "6eb84a33",
   "metadata": {
    "scrolled": true
   },
   "outputs": [],
   "source": []
  },
  {
   "cell_type": "code",
   "execution_count": null,
   "id": "4ea7bfb3",
   "metadata": {},
   "outputs": [],
   "source": []
  }
 ],
 "metadata": {
  "kernelspec": {
   "display_name": "Python 3",
   "language": "python",
   "name": "python3"
  },
  "language_info": {
   "codemirror_mode": {
    "name": "ipython",
    "version": 3
   },
   "file_extension": ".py",
   "mimetype": "text/x-python",
   "name": "python",
   "nbconvert_exporter": "python",
   "pygments_lexer": "ipython3",
   "version": "3.8.8"
  }
 },
 "nbformat": 4,
 "nbformat_minor": 5
}
